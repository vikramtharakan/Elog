{
 "cells": [
  {
   "cell_type": "markdown",
   "metadata": {},
   "source": [
    "# Elog Tagging\n",
    "\n",
    "The goal is to try and tag elog entries with the correct tag. In order to do this we need to:\n",
    "* Scrape the data from the entries off the elog\n",
    "* Also get the corresponding tag for entries\n",
    "* Run through NLP algorithm to try and train the entries (NOTE: Can't really do this rn because all of our tagging is kinda horseshit so we'd be training it on poop data"
   ]
  },
  {
   "cell_type": "code",
   "execution_count": 40,
   "metadata": {},
   "outputs": [],
   "source": [
    "import pandas as pd\n",
    "import numpy as np\n",
    "from urllib.request import urlopen\n",
    "from bs4 import BeautifulSoup\n",
    "import requests\n",
    "import urllib\n",
    "import config\n",
    "\n"
   ]
  },
  {
   "cell_type": "code",
   "execution_count": 42,
   "metadata": {},
   "outputs": [
    {
     "name": "stdout",
     "output_type": "stream",
     "text": [
      "The pastebin URL is:<html><body><h1>ELOG Login page</h1><table border=0 width=600><tr><td><p>Provide your username and password to authenticate yourself to the elog application.  Use your AFS (unix) password.  <b>If you are making an entry into a logbook for the first time, please first look at the ELOG Authorized Users link on the main elog web page or here: <A HREF=\"http://www.slac.stanford.edu/grp/cd/soft/elog/users/elog_authorized_users.html\">ELOG Authorized Users.</A></b>  <br></td></tr><tr bgcolor=lightblue><td><table border=1><tr><form action=login.php method=POST><td width=250>username: <input name=username value=\"tharakan\" size=15></td><td width=250>password: <input type=password name=password   size=15></td><td width=100><input type=submit name=Login value=Login></td></form></tr></table></td></tr></table></body></html>\n"
     ]
    }
   ],
   "source": [
    "# defining the api-endpoint  \n",
    "API_ENDPOINT = \"https://mccelog.slac.stanford.edu/elog/wsbin/login.php\"\n",
    "  \n",
    "# data to be sent to api \n",
    "data = {'username':config.username,\n",
    "        'password':config.password}\n",
    "  \n",
    "# sending post request and saving response as response object \n",
    "r = requests.post(url = API_ENDPOINT, data = data) \n",
    "  \n",
    "# extracting response text  \n",
    "pastebin_url = r.text \n",
    "print(\"The pastebin URL is:%s\"%pastebin_url) "
   ]
  },
  {
   "cell_type": "code",
   "execution_count": 24,
   "metadata": {},
   "outputs": [
    {
     "data": {
      "text/plain": [
       "[]"
      ]
     },
     "execution_count": 24,
     "metadata": {},
     "output_type": "execute_result"
    }
   ],
   "source": [
    "# api-endpoint \n",
    "URL = \"https://mccelog.slac.stanford.edu/elog/dev/mgibbs/dev_elog_display_json.php\"\n",
    "\n",
    "# defining a params dict for the parameters to be sent to the API \n",
    "PARAMS = {'shifts':6} \n",
    "  \n",
    "# sending get request and saving the response as response object \n",
    "r = requests.get(url = URL, params = PARAMS) \n",
    "  \n",
    "# extracting data in json format \n",
    "data = r.json() \n",
    "data"
   ]
  },
  {
   "cell_type": "code",
   "execution_count": 30,
   "metadata": {},
   "outputs": [
    {
     "name": "stdout",
     "output_type": "stream",
     "text": [
      "Retrieving  https://mccelog.slac.stanford.edu/elog/dev/mgibbs/dev_elog_display_json.php\n",
      "Retrieved 2 characters\n"
     ]
    },
    {
     "data": {
      "text/plain": [
       "[]"
      ]
     },
     "execution_count": 30,
     "metadata": {},
     "output_type": "execute_result"
    }
   ],
   "source": [
    "import urllib.request as ur\n",
    "import json\n",
    "\n",
    "json_url = 'https://mccelog.slac.stanford.edu/elog/dev/mgibbs/dev_elog_display_json.php'\n",
    "\n",
    "#json_url = input(\"Enter location: \")\n",
    "print(\"Retrieving \", json_url)\n",
    "data = ur.urlopen(json_url).read().decode('utf-8')\n",
    "print('Retrieved', len(data), 'characters')\n",
    "json_obj = json.loads(data)\n",
    "\n",
    "json_obj"
   ]
  },
  {
   "cell_type": "code",
   "execution_count": null,
   "metadata": {},
   "outputs": [],
   "source": []
  }
 ],
 "metadata": {
  "kernelspec": {
   "display_name": "Python 3",
   "language": "python",
   "name": "python3"
  },
  "language_info": {
   "codemirror_mode": {
    "name": "ipython",
    "version": 3
   },
   "file_extension": ".py",
   "mimetype": "text/x-python",
   "name": "python",
   "nbconvert_exporter": "python",
   "pygments_lexer": "ipython3",
   "version": "3.7.4"
  }
 },
 "nbformat": 4,
 "nbformat_minor": 2
}
