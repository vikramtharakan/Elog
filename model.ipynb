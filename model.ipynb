{
 "cells": [
  {
   "cell_type": "code",
   "execution_count": 1,
   "metadata": {},
   "outputs": [
    {
     "name": "stderr",
     "output_type": "stream",
     "text": [
      "[nltk_data] Downloading package punkt to\n",
      "[nltk_data]     C:\\Users\\tharakan\\AppData\\Roaming\\nltk_data...\n",
      "[nltk_data]   Unzipping tokenizers\\punkt.zip.\n",
      "[nltk_data] Downloading package wordnet to\n",
      "[nltk_data]     C:\\Users\\tharakan\\AppData\\Roaming\\nltk_data...\n",
      "[nltk_data]   Unzipping corpora\\wordnet.zip.\n",
      "[nltk_data] Downloading package stopwords to\n",
      "[nltk_data]     C:\\Users\\tharakan\\AppData\\Roaming\\nltk_data...\n",
      "[nltk_data]   Unzipping corpora\\stopwords.zip.\n"
     ]
    }
   ],
   "source": [
    "# import libraries\n",
    "import pandas as pd\n",
    "import numpy as np\n",
    "from sqlalchemy import create_engine\n",
    "\n",
    "import re\n",
    "import nltk\n",
    "nltk.download('punkt')\n",
    "nltk.download('wordnet')\n",
    "nltk.download('stopwords')\n",
    "\n",
    "from nltk.tokenize import word_tokenize\n",
    "from nltk.tokenize import sent_tokenize\n",
    "from nltk.stem import WordNetLemmatizer\n",
    "from nltk.corpus import stopwords\n",
    "\n",
    "\n",
    "from sklearn.pipeline import Pipeline\n",
    "from sklearn.feature_extraction.text import CountVectorizer, TfidfTransformer\n",
    "from sklearn.model_selection import train_test_split\n",
    "from sklearn.multioutput import MultiOutputClassifier\n",
    "from sklearn.ensemble import RandomForestClassifier\n",
    "from sklearn.metrics import classification_report\n",
    "\n",
    "from sklearn.model_selection import GridSearchCV\n",
    "from sklearn.neural_network import MLPClassifier\n"
   ]
  },
  {
   "cell_type": "code",
   "execution_count": 2,
   "metadata": {},
   "outputs": [],
   "source": [
    "engine = create_engine('sqlite:///elog_data.db')\n",
    "df = pd.read_sql_table('elog_data', engine)"
   ]
  },
  {
   "cell_type": "code",
   "execution_count": 3,
   "metadata": {},
   "outputs": [
    {
     "data": {
      "text/html": [
       "<div>\n",
       "<style scoped>\n",
       "    .dataframe tbody tr th:only-of-type {\n",
       "        vertical-align: middle;\n",
       "    }\n",
       "\n",
       "    .dataframe tbody tr th {\n",
       "        vertical-align: top;\n",
       "    }\n",
       "\n",
       "    .dataframe thead th {\n",
       "        text-align: right;\n",
       "    }\n",
       "</style>\n",
       "<table border=\"1\" class=\"dataframe\">\n",
       "  <thead>\n",
       "    <tr style=\"text-align: right;\">\n",
       "      <th></th>\n",
       "      <th>elogid</th>\n",
       "      <th>title</th>\n",
       "      <th>text</th>\n",
       "      <th>tag</th>\n",
       "    </tr>\n",
       "  </thead>\n",
       "  <tbody>\n",
       "    <tr>\n",
       "      <td>0</td>\n",
       "      <td>265530</td>\n",
       "      <td>Restart LCLS Magnet ChannelWatcher</td>\n",
       "      <td>I've restarted the lcls magnet channel watcher...</td>\n",
       "      <td>LCLS</td>\n",
       "    </tr>\n",
       "    <tr>\n",
       "      <td>1</td>\n",
       "      <td>259842</td>\n",
       "      <td>BYKIK pulse width change</td>\n",
       "      <td>Tony Beukers and I chagned the BYKIK pulse wid...</td>\n",
       "      <td>LCLS</td>\n",
       "    </tr>\n",
       "    <tr>\n",
       "      <td>2</td>\n",
       "      <td>252459</td>\n",
       "      <td>* Re: SW: Reboot BC1 Bunch Length IOCs-</td>\n",
       "      <td>Greg Dallt from the Klystron Group is working ...</td>\n",
       "      <td>LCLS</td>\n",
       "    </tr>\n",
       "    <tr>\n",
       "      <td>3</td>\n",
       "      <td>252453</td>\n",
       "      <td>SW: Reboot BC1 Bunch Length IOCs-</td>\n",
       "      <td>Rebooted Bunch Length Monitor EPICS IOC in li2...</td>\n",
       "      <td>LCLS</td>\n",
       "    </tr>\n",
       "    <tr>\n",
       "      <td>4</td>\n",
       "      <td>252399</td>\n",
       "      <td>Fallout from 120Hz Testing: BCS: Gun SBI (20-5...</td>\n",
       "      <td>Hello,\\n\\nAfter the 120Hz testing, after the c...</td>\n",
       "      <td>LCLS</td>\n",
       "    </tr>\n",
       "  </tbody>\n",
       "</table>\n",
       "</div>"
      ],
      "text/plain": [
       "   elogid                                              title  \\\n",
       "0  265530                 Restart LCLS Magnet ChannelWatcher   \n",
       "1  259842                           BYKIK pulse width change   \n",
       "2  252459            * Re: SW: Reboot BC1 Bunch Length IOCs-   \n",
       "3  252453                  SW: Reboot BC1 Bunch Length IOCs-   \n",
       "4  252399  Fallout from 120Hz Testing: BCS: Gun SBI (20-5...   \n",
       "\n",
       "                                                text   tag  \n",
       "0  I've restarted the lcls magnet channel watcher...  LCLS  \n",
       "1  Tony Beukers and I chagned the BYKIK pulse wid...  LCLS  \n",
       "2  Greg Dallt from the Klystron Group is working ...  LCLS  \n",
       "3  Rebooted Bunch Length Monitor EPICS IOC in li2...  LCLS  \n",
       "4  Hello,\\n\\nAfter the 120Hz testing, after the c...  LCLS  "
      ]
     },
     "execution_count": 3,
     "metadata": {},
     "output_type": "execute_result"
    }
   ],
   "source": [
    "df.head()"
   ]
  },
  {
   "cell_type": "code",
   "execution_count": null,
   "metadata": {},
   "outputs": [],
   "source": [
    "#X = df['message']  #['id','message','original','genre']\n",
    "#Y = df.drop(['id','message','original','genre'], axis = 1)"
   ]
  }
 ],
 "metadata": {
  "kernelspec": {
   "display_name": "Python 3",
   "language": "python",
   "name": "python3"
  },
  "language_info": {
   "codemirror_mode": {
    "name": "ipython",
    "version": 3
   },
   "file_extension": ".py",
   "mimetype": "text/x-python",
   "name": "python",
   "nbconvert_exporter": "python",
   "pygments_lexer": "ipython3",
   "version": "3.7.4"
  }
 },
 "nbformat": 4,
 "nbformat_minor": 2
}
