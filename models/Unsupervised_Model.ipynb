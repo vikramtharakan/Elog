{
 "cells": [
  {
   "cell_type": "code",
   "execution_count": 17,
   "metadata": {},
   "outputs": [
    {
     "name": "stderr",
     "output_type": "stream",
     "text": [
      "[nltk_data] Downloading package punkt to /Users/vikram/nltk_data...\n",
      "[nltk_data]   Package punkt is already up-to-date!\n",
      "[nltk_data] Downloading package wordnet to /Users/vikram/nltk_data...\n",
      "[nltk_data]   Unzipping corpora/wordnet.zip.\n",
      "[nltk_data] Downloading package stopwords to\n",
      "[nltk_data]     /Users/vikram/nltk_data...\n",
      "[nltk_data]   Package stopwords is already up-to-date!\n"
     ]
    }
   ],
   "source": [
    "import pandas as pd\n",
    "import numpy as np\n",
    "from sqlalchemy import create_engine\n",
    "import glob\n",
    "\n",
    "import re\n",
    "import nltk\n",
    "nltk.download('punkt')\n",
    "nltk.download('wordnet')\n",
    "nltk.download('stopwords')\n",
    "\n",
    "from nltk.tokenize import word_tokenize\n",
    "from nltk.tokenize import sent_tokenize\n",
    "from nltk.stem import WordNetLemmatizer\n",
    "from nltk.corpus import stopwords\n",
    "\n",
    "from sklearn.feature_extraction.text import CountVectorizer, TfidfTransformer\n",
    "from sklearn.multioutput import MultiOutputClassifier\n",
    "from sklearn.ensemble import RandomForestClassifier\n",
    "from sklearn.metrics import classification_report"
   ]
  },
  {
   "cell_type": "code",
   "execution_count": 16,
   "metadata": {},
   "outputs": [
    {
     "name": "stdout",
     "output_type": "stream",
     "text": [
      "/Users/vikram/Projects/Elog/data/elog_all_data0.db\n",
      "/Users/vikram/Projects/Elog/data/elog_all_data1.db\n",
      "/Users/vikram/Projects/Elog/data/elog_all_data2.db\n",
      "/Users/vikram/Projects/Elog/data/elog_all_data3.db\n",
      "/Users/vikram/Projects/Elog/data/elog_all_data4.db\n",
      "/Users/vikram/Projects/Elog/data/elog_all_data5.db\n",
      "/Users/vikram/Projects/Elog/data/elog_all_data6.db\n",
      "/Users/vikram/Projects/Elog/data/elog_all_data7.db\n",
      "/Users/vikram/Projects/Elog/data/elog_all_data8.db\n",
      "/Users/vikram/Projects/Elog/data/elog_all_data9.db\n",
      "/Users/vikram/Projects/Elog/data/elog_data_2011.db\n",
      "/Users/vikram/Projects/Elog/data/elog_etl.ipynb\n",
      "/Users/vikram/Projects/Elog/data/elog_etl_practice.ipynb\n"
     ]
    }
   ],
   "source": [
    "\n",
    "# Iterates through all \"all_data\" files and concatenates into one dataframe\n",
    "for name in glob.glob('/Users/vikram/Projects/Elog/data/elog_all_data*'):\n",
    "    engine = create_engine(name)"
   ]
  },
  {
   "cell_type": "code",
   "execution_count": null,
   "metadata": {},
   "outputs": [],
   "source": []
  }
 ],
 "metadata": {
  "kernelspec": {
   "display_name": "Python 3",
   "language": "python",
   "name": "python3"
  },
  "language_info": {
   "codemirror_mode": {
    "name": "ipython",
    "version": 3
   },
   "file_extension": ".py",
   "mimetype": "text/x-python",
   "name": "python",
   "nbconvert_exporter": "python",
   "pygments_lexer": "ipython3",
   "version": "3.7.2"
  }
 },
 "nbformat": 4,
 "nbformat_minor": 2
}
